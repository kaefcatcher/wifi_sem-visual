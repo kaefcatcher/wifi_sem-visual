{
 "cells": [
  {
   "cell_type": "code",
   "execution_count": 7,
   "metadata": {},
   "outputs": [],
   "source": [
    "from typing import List, Tuple\n",
    "import numpy as np"
   ]
  },
  {
   "cell_type": "code",
   "execution_count": 8,
   "metadata": {},
   "outputs": [],
   "source": [
    "def bpsk(bits: List[int]) -> List[complex]:\n",
    "    \"\"\"\n",
    "    Perform BPSK (Binary Phase Shift Keying) modulation on input bits.\n",
    "    Args:\n",
    "    - bits (List[int]): A list of binary values (0 or 1).\n",
    "    Returns:\n",
    "    - List[complex]: A list of complex BPSK-modulated symbols according to the map\n",
    "    \"\"\"\n",
    "    bpsk_map = [-1, 1]\n",
    "    return [bpsk_map[bit] + 0j for bit in bits]\n",
    "\n",
    "def qpsk(bits: List[int]) -> List[complex]:\n",
    "    \"\"\"\n",
    "    Perform QPSK (Quadrature Phase Shift Keying) modulation on input bits.\n",
    "    Each pair of bits is mapped to a complex symbol.\n",
    "    Args:\n",
    "    - bits (List[int]): A list of binary values (0 or 1). The length of bits must be even, as two bits are needed for each QPSK symbol.\n",
    "    Returns:\n",
    "    - List[complex]: A list of complex QPSK-modulated symbols, scaled by 1/sqrt(2) according to the map:\n",
    "    \"\"\"\n",
    "    qpsk_map = {\n",
    "        (0, 0): (-1, -1),\n",
    "        (0, 1): (-1, 1),\n",
    "        (1, 0): (1, -1),\n",
    "        (1, 1): (1, 1)\n",
    "    }\n",
    "    assert len(bits) % 2 == 0, \"Number of bits must be even for QPSK.\"\n",
    "    symbols: List[complex] = []\n",
    "    for i in range(0, len(bits), 2):\n",
    "        bit_pair = (bits[i], bits[i + 1])\n",
    "        i_val, q_val = qpsk_map[bit_pair]\n",
    "        symbols.append((1 / np.sqrt(2)) * (i_val + q_val * 1j))\n",
    "    return symbols\n",
    "\n",
    "def qam16(bits: List[int]) -> List[complex]:\n",
    "    \"\"\"\n",
    "    Perform 16-QAM (Quadrature Amplitude Modulation) on input bits.\n",
    "    Each group of 4 bits is mapped to a complex symbol.\n",
    "    Args:\n",
    "    - bits (List[int]): A list of binary values (0 or 1). The length of bits must be divisible by 4, as 4 bits are needed for each 16-QAM symbol.\n",
    "    Returns:\n",
    "    - List[complex]: A list of complex 16-QAM-modulated symbols, scaled by 1/sqrt(10):\n",
    "      The I (real) and Q (imaginary) values are chosen from {-3, -1, 1, 3} according to the map.\n",
    "    \"\"\"\n",
    "    qam16_map = {\n",
    "        (0, 0): -3,\n",
    "        (0, 1): -1,\n",
    "        (1, 1): 1,\n",
    "        (1, 0): 3\n",
    "    }\n",
    "    assert len(bits) % 4 == 0, \"Number of bits must be divisible by 4 for 16-QAM.\"\n",
    "    symbols: List[complex] = []\n",
    "    for i in range(0, len(bits), 4):\n",
    "        bit_pair_re = (bits[i], bits[i + 1])\n",
    "        bit_pair_im = (bits[i + 2], bits[i + 3])\n",
    "        i_val, q_val = qam16_map[bit_pair_re], qam16_map[bit_pair_im]\n",
    "        symbols.append((1 / np.sqrt(10)) * (i_val + q_val * 1j))\n",
    "    return symbols"
   ]
  },
  {
   "cell_type": "code",
   "execution_count": 10,
   "metadata": {},
   "outputs": [],
   "source": []
  },
  {
   "cell_type": "code",
   "execution_count": 11,
   "metadata": {},
   "outputs": [],
   "source": [
    "def qam64(bits: List[int]) -> List[complex]:\n",
    "    \"\"\"\n",
    "    Perform 64-QAM (Quadrature Amplitude Modulation) on input bits.\n",
    "    Each group of 6 bits is mapped to a complex symbol.\n",
    "    Args:\n",
    "    - bits (List[int]): A list of binary values (0 or 1). The length of bits must be divisible by 6, as 6 bits are needed for each 64-QAM symbol.\n",
    "    Returns:\n",
    "    - List[complex]: A list of complex 64-QAM-modulated symbols, scaled by 1/sqrt(42):\n",
    "      The I (real) and Q (imaginary) values are chosen from {-7, -5, -3, -1, 1, 3, 5, 7} according to the map.\n",
    "    \"\"\"\n",
    "    qam64_map = {\n",
    "        (0, 0, 0): -7,\n",
    "        (0, 0, 1): -5,\n",
    "        (0, 1, 1): -3,\n",
    "        (0, 1, 0): -1,\n",
    "        (1, 1, 0): 1,\n",
    "        (1, 1, 1): 3,\n",
    "        (1, 0, 1): 5,\n",
    "        (1, 0, 0): 7\n",
    "    }\n",
    "    assert len(bits) % 6 == 0, \"Number of bits must be divisible by 6 for 64-QAM.\"\n",
    "    symbols: List[complex] = []\n",
    "    for i in range(0, len(bits), 6):\n",
    "        bit_triplet_re = (bits[i], bits[i + 1], bits[i + 2])\n",
    "        bit_triplet_im = (bits[i + 3], bits[i + 4], bits[i + 5])\n",
    "        i_val, q_val = qam64_map[bit_triplet_re], qam64_map[bit_triplet_im]\n",
    "        symbols.append((1 / np.sqrt(42)) * (i_val + q_val * 1j))\n",
    "    return symbols"
   ]
  },
  {
   "cell_type": "code",
   "execution_count": 12,
   "metadata": {},
   "outputs": [],
   "source": [
    "def ofdm(\n",
    "        modulated_symbols: List[complex],\n",
    "        num_subcarriers: int,\n",
    "        cyclic_prefix_len: int) -> np.ndarray:\n",
    "    \"\"\"\n",
    "    Perform OFDM (Orthogonal Frequency Division Multiplexing) on the modulated symbols.\n",
    "    Args:\n",
    "    - modulated_symbols (List[complex]): List of modulated symbols (complex values).\n",
    "    - num_subcarriers (int): Number of subcarriers (e.g., 64, 128, etc.).\n",
    "    - cyclic_prefix_len (int): Length of the cyclic prefix to add.\n",
    "    Returns:\n",
    "    - np.ndarray: Time-domain OFDM signal with cyclic prefix added.\n",
    "    \"\"\"\n",
    "    assert len(\n",
    "        modulated_symbols) <= num_subcarriers, \"Number of symbols cannot exceed the number of subcarriers.\"\n",
    "    if len(modulated_symbols) < num_subcarriers:\n",
    "        modulated_symbols = np.pad(\n",
    "            modulated_symbols,\n",
    "            (0,\n",
    "             num_subcarriers -\n",
    "             len(modulated_symbols)),\n",
    "            'constant')\n",
    "    time_domain_signal = np.fft.ifft(modulated_symbols)\n",
    "    cyclic_prefix = time_domain_signal[-cyclic_prefix_len:]\n",
    "    ofdm_signal = np.concatenate([cyclic_prefix, time_domain_signal])\n",
    "    return ofdm_signal"
   ]
  },
  {
   "cell_type": "code",
   "execution_count": 13,
   "metadata": {},
   "outputs": [],
   "source": [
    "bits = np.random.randint(0, 2, size=12)\n",
    "modulated_symbols = qam64(bits)"
   ]
  },
  {
   "cell_type": "code",
   "execution_count": 14,
   "metadata": {},
   "outputs": [],
   "source": [
    "num_subcarriers = 16\n",
    "cyclic_prefix_len = 4"
   ]
  },
  {
   "cell_type": "code",
   "execution_count": 15,
   "metadata": {},
   "outputs": [],
   "source": [
    "ofdm_signal = ofdm(modulated_symbols, num_subcarriers, cyclic_prefix_len)"
   ]
  },
  {
   "cell_type": "code",
   "execution_count": 16,
   "metadata": {},
   "outputs": [
    {
     "name": "stdout",
     "output_type": "stream",
     "text": [
      "OFDM signal (with cyclic prefix):\n",
      "[ 0.13501543+0.07715167j  0.11880496+0.10078345j  0.09478495+0.11641289j\n",
      "  0.06661223+0.12166054j  0.03857584+0.11572751j  0.01494406+0.09951704j\n",
      " -0.00068538+0.07549703j -0.00593303+0.04732431j  0.        +0.01928792j\n",
      "  0.01621047-0.00434386j  0.04023048-0.01997329j  0.0684032 -0.02522095j\n",
      "  0.09643959-0.01928792j  0.12007137-0.00307745j  0.13570081+0.02094256j\n",
      "  0.14094846+0.04911528j  0.13501543+0.07715167j  0.11880496+0.10078345j\n",
      "  0.09478495+0.11641289j  0.06661223+0.12166054j]\n"
     ]
    }
   ],
   "source": [
    "print(\"OFDM signal (with cyclic prefix):\")\n",
    "print(ofdm_signal)"
   ]
  }
 ],
 "metadata": {
  "kernelspec": {
   "display_name": "Python 3 (ipykernel)",
   "language": "python",
   "name": "python3"
  },
  "language_info": {
   "codemirror_mode": {
    "name": "ipython",
    "version": 3
   },
   "file_extension": ".py",
   "mimetype": "text/x-python",
   "name": "python",
   "nbconvert_exporter": "python",
   "pygments_lexer": "ipython3",
   "version": "3.12.2"
  }
 },
 "nbformat": 4,
 "nbformat_minor": 4
}
